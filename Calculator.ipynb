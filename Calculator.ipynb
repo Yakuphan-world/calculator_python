{
 "cells": [
  {
   "cell_type": "code",
   "execution_count": null,
   "metadata": {},
   "outputs": [],
   "source": [
    "\n",
    "num1 = input(\"First Number:\\n\")\n",
    "operator = input(\"Operator (+, -, *, /):\\n\")\n",
    "num2 = input(\"Second Number:\\n\")\n",
    "\n",
    "num1 = float(num1)\n",
    "num2 = float(num2)\n",
    "\n",
    "out = None\n",
    "\n",
    "if operator == \"+\":\n",
    "    out =  num1 + num2\n",
    "elif operator == \"-\":\n",
    "    out = num1 - num2\n",
    "elif operator == \"*\":\n",
    "    out = num1 * num2\n",
    "elif operator == \"/\":\n",
    "    out = num1 / num2\n",
    "    \n",
    "print(\"Answer: \" + str(out))"
   ]
  }
 ],
 "metadata": {
  "language_info": {
   "name": "python"
  },
  "orig_nbformat": 4
 },
 "nbformat": 4,
 "nbformat_minor": 2
}
